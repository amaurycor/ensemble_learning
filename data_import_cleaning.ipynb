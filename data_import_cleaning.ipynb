{
  "cells": [
    {
      "cell_type": "code",
      "execution_count": 3,
      "metadata": {},
      "outputs": [],
      "source": [
        "# Libraries\n",
        "import pandas as pd\n",
        "import numpy as np\n"
      ]
    },
    {
      "cell_type": "code",
      "execution_count": 12,
      "metadata": {},
      "outputs": [
        {
          "data": {
            "text/plain": [
              "(Index(['id', 'name', 'host_id', 'host_name', 'neighbourhood_group',\n",
              "        'neighbourhood', 'latitude', 'longitude', 'room_type', 'price',\n",
              "        'minimum_nights', 'number_of_reviews', 'last_review',\n",
              "        'reviews_per_month', 'calculated_host_listings_count',\n",
              "        'availability_365'],\n",
              "       dtype='object'),\n",
              " 48895)"
            ]
          },
          "execution_count": 12,
          "metadata": {},
          "output_type": "execute_result"
        }
      ],
      "source": [
        "# Data import\n",
        "df = pd.read_csv('AB_NYC_2019.csv')\n",
        "df.columns, len(df)"
      ]
    },
    {
      "cell_type": "code",
      "execution_count": 13,
      "metadata": {},
      "outputs": [
        {
          "data": {
            "text/plain": [
              "Index(['name', 'host_id', 'neighbourhood_group', 'neighbourhood', 'latitude',\n",
              "       'longitude', 'room_type', 'price', 'minimum_nights',\n",
              "       'number_of_reviews', 'reviews_per_month',\n",
              "       'calculated_host_listings_count', 'availability_365'],\n",
              "      dtype='object')"
            ]
          },
          "execution_count": 13,
          "metadata": {},
          "output_type": "execute_result"
        }
      ],
      "source": [
        "# Drop irrelevant columns\n",
        "df = df.drop(columns=['id', 'host_name', 'last_review'], axis = 1)\n",
        "df.columns"
      ]
    },
    {
      "cell_type": "code",
      "execution_count": 14,
      "metadata": {},
      "outputs": [
        {
          "data": {
            "text/plain": [
              "name                                 16\n",
              "host_id                               0\n",
              "neighbourhood_group                   0\n",
              "neighbourhood                         0\n",
              "latitude                              0\n",
              "longitude                             0\n",
              "room_type                             0\n",
              "price                                 0\n",
              "minimum_nights                        0\n",
              "number_of_reviews                     0\n",
              "reviews_per_month                 10052\n",
              "calculated_host_listings_count        0\n",
              "availability_365                      0\n",
              "dtype: int64"
            ]
          },
          "execution_count": 14,
          "metadata": {},
          "output_type": "execute_result"
        }
      ],
      "source": [
        "# Check null\n",
        "df.isnull().sum()"
      ]
    },
    {
      "cell_type": "code",
      "execution_count": 15,
      "metadata": {},
      "outputs": [
        {
          "data": {
            "text/plain": [
              "48879"
            ]
          },
          "execution_count": 15,
          "metadata": {},
          "output_type": "execute_result"
        }
      ],
      "source": [
        "# We use median to replace the missing data in 'reviews_per_month' column\n",
        "median = df['reviews_per_month'].median()\n",
        "df['reviews_per_month'].fillna(median, inplace=True)\n",
        "\n",
        "# Drop missing data in 'name' column\n",
        "df = df.dropna(axis=0)\n",
        "\n",
        "len(df)"
      ]
    },
    {
      "cell_type": "code",
      "execution_count": 16,
      "metadata": {},
      "outputs": [],
      "source": [
        "# Export to CSV\n",
        "df.to_csv('AB_NYC_2019_cleaned.csv', index = False)"
      ]
    }
  ],
  "metadata": {
    "colab": {
      "provenance": []
    },
    "kernelspec": {
      "display_name": "Python 3.9.12 ('base')",
      "language": "python",
      "name": "python3"
    },
    "language_info": {
      "codemirror_mode": {
        "name": "ipython",
        "version": 3
      },
      "file_extension": ".py",
      "mimetype": "text/x-python",
      "name": "python",
      "nbconvert_exporter": "python",
      "pygments_lexer": "ipython3",
      "version": "3.9.12"
    },
    "vscode": {
      "interpreter": {
        "hash": "c583b04bd300b6c5291ff1176f97d61ae1bc889ec7f2c1c609b2578a37b6e7cf"
      }
    }
  },
  "nbformat": 4,
  "nbformat_minor": 0
}
