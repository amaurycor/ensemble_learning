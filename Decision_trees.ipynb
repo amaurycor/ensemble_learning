{
 "cells": [
  {
   "cell_type": "code",
   "execution_count": 59,
   "metadata": {},
   "outputs": [],
   "source": [
    "import numpy as np\n",
    "from sklearn.datasets import load_iris,load_boston\n",
    "from sklearn import model_selection\n",
    "from sklearn.metrics import mean_squared_error"
   ]
  },
  {
   "cell_type": "code",
   "execution_count": 50,
   "metadata": {},
   "outputs": [],
   "source": [
    "class Node:\n",
    "    def __init__(self, feature=None, threshold=None, left=None, right=None, value=None):\n",
    "        self.feature = feature  # la caractéristique utilisée pour la division\n",
    "        self.threshold = threshold  # le seuil utilisé pour la division\n",
    "        self.left = left  # le sous-arbre gauche\n",
    "        self.right = right  # le sous-arbre droit\n",
    "        self.value = value  # la prédiction de la feuille"
   ]
  },
  {
   "cell_type": "code",
   "execution_count": 51,
   "metadata": {},
   "outputs": [],
   "source": [
    "class DecisionTreeClassifierFromScratch:\n",
    "\n",
    "    def __init__(self, max_depth=None):\n",
    "        self.max_depth = max_depth  # la profondeur maximale de l'arbre\n",
    "        self.root = None  # la racine de l'arbre\n",
    "\n",
    "    def fit(self, X, y):\n",
    "        self.root = self._build_tree(X, y)\n",
    "\n",
    "    def predict(self, X):\n",
    "        return [self._predict(x, self.root) for x in X]\n",
    "    \n",
    "    def _build_tree(self, X, y, depth=0):\n",
    "        n_samples, n_features = X.shape\n",
    "        n_classes = len(set(y))\n",
    "\n",
    "        # Arrêter la construction de l'arbre si la profondeur maximale est atteinte\n",
    "        if self.max_depth is not None and depth >= self.max_depth:\n",
    "            value = self._most_common_label(y)\n",
    "            return Node(value=value)\n",
    "\n",
    "        # Arrêter la construction de l'arbre si toutes les étiquettes sont identiques\n",
    "        if len(set(y)) == 1:\n",
    "            return Node(value=y[0])\n",
    "\n",
    "        # Trouver la meilleure caractéristique et le meilleur seuil pour la division\n",
    "        best_feature, best_threshold = self._best_split(X, y, n_samples, n_features, n_classes)\n",
    "\n",
    "        # Diviser les données en fonction de la meilleure caractéristique et du meilleur seuil\n",
    "        left_indices, right_indices = self._split(X[:, best_feature], best_threshold)\n",
    "\n",
    "        # Construire le sous-arbre gauche et le sous-arbre droit\n",
    "        left = self._build_tree(X[left_indices, :], y[left_indices], depth+1)\n",
    "        right = self._build_tree(X[right_indices, :], y[right_indices], depth+1)\n",
    "\n",
    "        # Retourner le nœud de décision\n",
    "        return Node(feature=best_feature, threshold=best_threshold, left=left, right=right)\n",
    "\n",
    "    def _gini_impurity(self, y, n_classes):\n",
    "        # Calcul de la gini impurity\n",
    "        return 1.0 - sum((np.sum(y == c) / len(y)) ** 2 for c in range(n_classes))\n",
    "\n",
    "    def _best_split(self, X, y, n_samples, n_features, n_classes):\n",
    "        best_gini = float('inf')\n",
    "        best_feature = None\n",
    "        best_threshold = None\n",
    "\n",
    "        for feature in range(n_features):\n",
    "            thresholds = np.unique(X[:, feature])\n",
    "\n",
    "            for threshold in thresholds:\n",
    "                left_indices, right_indices = self._split(X[:, feature], threshold)\n",
    "                if len(left_indices) == 0 or len(right_indices) == 0:\n",
    "                    continue\n",
    "\n",
    "                gini = (len(left_indices) / n_samples) * self._gini_impurity(y[left_indices],n_classes) + \\\n",
    "                     (len(right_indices) / n_samples) * self._gini_impurity(y[right_indices],n_classes)\n",
    "\n",
    "                if gini < best_gini:\n",
    "                    best_gini = gini\n",
    "                    best_feature = feature\n",
    "                    best_threshold = threshold\n",
    "\n",
    "        return best_feature, best_threshold\n",
    "\n",
    "    def _split(self, feature, threshold):\n",
    "        left_indices = np.where(feature <= threshold)[0]\n",
    "        right_indices = np.where(feature > threshold)[0]\n",
    "        return left_indices, right_indices\n",
    "\n",
    "    def _most_common_label(self, y):\n",
    "        # Trouver la classe 'pincipale' de la région\n",
    "        return sorted([(c, np.sum(y == c)) for c in set(y)], key=lambda x: x[1])[-1][0]\n",
    "\n",
    "    def _predict(self, x, node):\n",
    "        if node.value is not None:\n",
    "            return node.value\n",
    "        if x[node.feature] <= node.threshold:\n",
    "            return self._predict(x, node.left)\n",
    "        else:\n",
    "            return self._predict(x, node.right)"
   ]
  },
  {
   "cell_type": "code",
   "execution_count": 52,
   "metadata": {},
   "outputs": [
    {
     "name": "stdout",
     "output_type": "stream",
     "text": [
      "len of X_train:  120  ; len of X_test:  30\n"
     ]
    }
   ],
   "source": [
    "# In the case of classification we chose the IRIS dataset\n",
    "iris = load_iris()\n",
    "X_train, X_test, y_train, y_test = model_selection.train_test_split(iris.data, iris.target, test_size=0.2, random_state=42)\n",
    "print('len of X_train: ',len(X_train),' ; len of X_test: ',len(X_test))"
   ]
  },
  {
   "cell_type": "code",
   "execution_count": 53,
   "metadata": {},
   "outputs": [
    {
     "name": "stdout",
     "output_type": "stream",
     "text": [
      "[1, 0, 2, 1, 2, 0, 1, 2, 1, 1, 2, 0, 0, 0, 0, 1, 2, 1, 1, 2, 0, 2, 0, 2, 2, 2, 2, 2, 0, 0]\n",
      "[1, 0, 2, 1, 1, 0, 1, 2, 1, 1, 2, 0, 0, 0, 0, 1, 2, 1, 1, 2, 0, 2, 0, 2, 2, 2, 2, 2, 0, 0]\n",
      "Accuracy: 0.9666666666666667\n"
     ]
    }
   ],
   "source": [
    "# From scratch predictions and accuracy\n",
    "tree = DecisionTreeClassifierFromScratch(max_depth=3)\n",
    "tree.fit(X_train, y_train)\n",
    "\n",
    "predictions = tree.predict(X_test)\n",
    "print(predictions)\n",
    "print(list(y_test))\n",
    "accuracy = np.mean(predictions == y_test)\n",
    "\n",
    "print(f\"Accuracy: {accuracy}\")\n",
    "# One mistake on the 5th element"
   ]
  },
  {
   "cell_type": "code",
   "execution_count": 54,
   "metadata": {},
   "outputs": [
    {
     "data": {
      "text/plain": [
       "DecisionTreeClassifier(max_depth=3, random_state=42)"
      ]
     },
     "execution_count": 54,
     "metadata": {},
     "output_type": "execute_result"
    }
   ],
   "source": [
    "from sklearn.tree import DecisionTreeClassifier\n",
    "from sklearn.metrics import accuracy_score\n",
    "\n",
    "# With sklearn package\n",
    "\n",
    "clf = DecisionTreeClassifier(random_state=42,max_depth=3)\n",
    "clf.fit(X_train, y_train)"
   ]
  },
  {
   "cell_type": "code",
   "execution_count": 55,
   "metadata": {},
   "outputs": [
    {
     "name": "stdout",
     "output_type": "stream",
     "text": [
      "[1 0 2 1 1 0 1 2 1 1 2 0 0 0 0 1 2 1 1 2 0 2 0 2 2 2 2 2 0 0]\n",
      "[1 0 2 1 1 0 1 2 1 1 2 0 0 0 0 1 2 1 1 2 0 2 0 2 2 2 2 2 0 0]\n",
      "Accuracy: 1.0\n"
     ]
    }
   ],
   "source": [
    "y_pred = clf.predict(X_test)\n",
    "print(y_pred)\n",
    "print(y_test)\n",
    "accuracy = accuracy_score(y_test, y_pred)\n",
    "\n",
    "print('Accuracy:', accuracy)"
   ]
  },
  {
   "cell_type": "code",
   "execution_count": 57,
   "metadata": {},
   "outputs": [],
   "source": [
    "class DecisionTreeRegressorFromScratch:\n",
    "\n",
    "    def __init__(self, max_depth=None):\n",
    "        self.max_depth = max_depth  # la profondeur maximale de l'arbre\n",
    "        self.root = None  # la racine de l'arbre\n",
    "\n",
    "    def fit(self, X, y):\n",
    "        self.root = self._build_tree(X, y)\n",
    "\n",
    "    def predict(self, X):\n",
    "        return [self._predict(x, self.root) for x in X]\n",
    "    \n",
    "    def _build_tree(self, X, y, depth=0):\n",
    "        n_samples, n_features = X.shape\n",
    "\n",
    "        # Arrêter la construction de l'arbre si la profondeur maximale est atteinte\n",
    "        if self.max_depth is not None and depth >= self.max_depth:\n",
    "            value = np.mean(y)\n",
    "            return Node(value=value)\n",
    "\n",
    "        # Arrêter la construction de l'arbre si toutes les étiquettes sont identiques\n",
    "        if np.all(y == y[0]):\n",
    "            return Node(value=y[0])\n",
    "\n",
    "        # Trouver la meilleure caractéristique et le meilleur seuil pour la division\n",
    "        best_feature, best_threshold = self._best_split(X, y, n_samples, n_features)\n",
    "\n",
    "        # Diviser les données en fonction de la meilleure caractéristique et du meilleur seuil\n",
    "        left_indices, right_indices = self._split(X[:, best_feature], best_threshold)\n",
    "\n",
    "        # Construire le sous-arbre gauche et le sous-arbre droit\n",
    "        left = self._build_tree(X[left_indices, :], y[left_indices], depth+1)\n",
    "        right = self._build_tree(X[right_indices, :], y[right_indices], depth+1)\n",
    "\n",
    "        # Retourner le nœud de décision\n",
    "        return Node(feature=best_feature, threshold=best_threshold, left=left, right=right)\n",
    "\n",
    "    def _mse(self, y):\n",
    "        # Calculer la mean squared error\n",
    "        return np.mean((y - np.mean(y)) ** 2)\n",
    "\n",
    "    def _best_split(self, X, y, n_samples, n_features):\n",
    "        best_mse = float('inf')\n",
    "        best_feature = None\n",
    "        best_threshold = None\n",
    "\n",
    "        for feature in range(n_features):\n",
    "            thresholds = np.unique(X[:, feature])\n",
    "\n",
    "            for threshold in thresholds:\n",
    "                left_indices, right_indices = self._split(X[:, feature], threshold)\n",
    "                if len(left_indices) == 0 or len(right_indices) == 0:\n",
    "                    continue\n",
    "\n",
    "                mse = (len(left_indices) / n_samples) * self._mse(y[left_indices]) + \\\n",
    "                      (len(right_indices) / n_samples) * self._mse(y[right_indices])\n",
    "\n",
    "                if mse < best_mse:\n",
    "                    best_mse = mse\n",
    "                    best_feature = feature\n",
    "                    best_threshold = threshold\n",
    "\n",
    "        return best_feature, best_threshold\n",
    "\n",
    "    def _split(self, feature, threshold):\n",
    "        left_indices = np.where(feature <= threshold)[0]\n",
    "        right_indices = np.where(feature > threshold)[0]\n",
    "        return left_indices, right_indices\n",
    "    \n",
    "    def _predict(self, x, node):\n",
    "        if node.value is not None:\n",
    "            return node.value\n",
    "        if x[node.feature] <= node.threshold:\n",
    "            return self._predict(x, node.left)\n",
    "        else:\n",
    "            return self._predict(x, node.right)"
   ]
  },
  {
   "cell_type": "code",
   "execution_count": null,
   "metadata": {},
   "outputs": [],
   "source": [
    "# In the case of regression we took the Boston Housing dataset\n",
    "# Charger le dataset Boston Housing\n",
    "X, y = load_boston(return_X_y=True)\n",
    "\n",
    "# Diviser le dataset en ensembles d'entraînement et de test\n",
    "X_train, X_test, y_train, y_test = model_selection.train_test_split(X, y, test_size=0.2, random_state=42)"
   ]
  },
  {
   "cell_type": "code",
   "execution_count": 61,
   "metadata": {},
   "outputs": [
    {
     "name": "stdout",
     "output_type": "stream",
     "text": [
      "[22.726190476190474, 30.05, 19.733333333333334, 20.355555555555554, 15.910526315789474, 22.726190476190474, 15.910526315789474, 15.910526315789474, 22.726190476190474, 20.355555555555554, 19.733333333333334, 19.733333333333334, 9.203703703703704, 22.726190476190474, 20.355555555555554, 24.45, 19.733333333333334, 9.203703703703704, 44.65555555555556, 14.135, 22.726190476190474, 22.726190476190474, 15.910526315789474, 25.985185185185188, 14.135, 14.135, 20.355555555555554, 14.135, 15.910526315789474, 20.355555555555554, 19.733333333333334, 22.726190476190474, 10.4, 20.355555555555554, 15.910526315789474, 15.910526315789474, 24.45, 20.355555555555554, 22.299999999999997, 22.726190476190474, 19.6, 25.985185185185188, 44.65555555555556, 20.355555555555554, 22.726190476190474, 14.135, 15.910526315789474, 22.726190476190474, 15.910526315789474, 30.05, 20.355555555555554, 33.1, 15.910526315789474, 25.985185185185188, 44.65555555555556, 22.726190476190474, 15.910526315789474, 30.05, 22.726190476190474, 22.299999999999997, 25.985185185185188, 33.1, 30.05, 20.355555555555554, 30.05, 15.910526315789474, 14.135, 22.726190476190474, 30.05, 15.910526315789474, 20.355555555555554, 25.985185185185188, 9.203703703703704, 20.355555555555554, 22.726190476190474, 9.203703703703704, 22.726190476190474, 44.65555555555556, 13.170000000000002, 15.910526315789474, 20.355555555555554, 13.170000000000002, 20.355555555555554, 9.203703703703704, 20.355555555555554, 25.985185185185188, 15.910526315789474, 22.726190476190474, 22.726190476190474, 15.910526315789474, 20.355555555555554, 9.203703703703704, 22.726190476190474, 20.355555555555554, 20.355555555555554, 22.726190476190474, 27.9, 13.170000000000002, 14.135, 13.170000000000002, 20.355555555555554, 22.726190476190474]\n",
      "Mean Squared Error: 14.347166388568414\n"
     ]
    }
   ],
   "source": [
    "# Entraîner un arbre de décision de régression\n",
    "tree = DecisionTreeRegressorFromScratch(max_depth=5)\n",
    "tree.fit(X_train, y_train)\n",
    "\n",
    "# Prédire sur l'ensemble de test\n",
    "y_pred = tree.predict(X_test)\n",
    "print(y_pred)\n",
    "\n",
    "# Calculer l'erreur quadratique moyenne\n",
    "mse = mean_squared_error(y_test, y_pred)\n",
    "\n",
    "print(\"Mean Squared Error:\", mse)"
   ]
  },
  {
   "cell_type": "code",
   "execution_count": 62,
   "metadata": {},
   "outputs": [
    {
     "name": "stdout",
     "output_type": "stream",
     "text": [
      "Mean Squared Error: 8.553906584646844\n"
     ]
    }
   ],
   "source": [
    "from sklearn.tree import DecisionTreeRegressor\n",
    "\n",
    "# With sklearn package\n",
    "\n",
    "dt = DecisionTreeRegressor(max_depth=5, random_state=42)\n",
    "dt.fit(X_train, y_train)\n",
    "\n",
    "# Make predictions on the testing data\n",
    "y_pred = dt.predict(X_test)\n",
    "\n",
    "# Evaluate the model using mean squared error\n",
    "mse = mean_squared_error(y_test, y_pred)\n",
    "print(\"Mean Squared Error:\", mse)"
   ]
  }
 ],
 "metadata": {
  "kernelspec": {
   "display_name": "Python 3.9.12 ('base')",
   "language": "python",
   "name": "python3"
  },
  "language_info": {
   "codemirror_mode": {
    "name": "ipython",
    "version": 3
   },
   "file_extension": ".py",
   "mimetype": "text/x-python",
   "name": "python",
   "nbconvert_exporter": "python",
   "pygments_lexer": "ipython3",
   "version": "3.9.12"
  },
  "orig_nbformat": 4,
  "vscode": {
   "interpreter": {
    "hash": "c583b04bd300b6c5291ff1176f97d61ae1bc889ec7f2c1c609b2578a37b6e7cf"
   }
  }
 },
 "nbformat": 4,
 "nbformat_minor": 2
}
