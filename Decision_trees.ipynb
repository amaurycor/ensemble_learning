{
 "cells": [
  {
   "cell_type": "code",
   "execution_count": 15,
   "metadata": {},
   "outputs": [],
   "source": [
    "import numpy as np\n",
    "from sklearn.datasets import load_iris\n",
    "from sklearn import model_selection"
   ]
  },
  {
   "cell_type": "code",
   "execution_count": 16,
   "metadata": {},
   "outputs": [],
   "source": [
    "class Node:\n",
    "    def __init__(self, feature=None, threshold=None, left=None, right=None, value=None):\n",
    "        self.feature = feature  # la caractéristique utilisée pour la division\n",
    "        self.threshold = threshold  # le seuil utilisé pour la division\n",
    "        self.left = left  # le sous-arbre gauche\n",
    "        self.right = right  # le sous-arbre droit\n",
    "        self.value = value  # la prédiction de la feuille"
   ]
  },
  {
   "cell_type": "code",
   "execution_count": 43,
   "metadata": {},
   "outputs": [],
   "source": [
    "class DecisionTreeClassifierFromScratch:\n",
    "\n",
    "    def __init__(self, max_depth=None):\n",
    "        self.max_depth = max_depth  # la profondeur maximale de l'arbre\n",
    "        self.root = None  # la racine de l'arbre\n",
    "\n",
    "    def fit(self, X, y):\n",
    "        self.root = self._build_tree(X, y)\n",
    "\n",
    "    def predict(self, X):\n",
    "        return [self._predict(x, self.root) for x in X]\n",
    "    \n",
    "    def _build_tree(self, X, y, depth=0):\n",
    "        n_samples, n_features = X.shape\n",
    "        n_classes = len(set(y))\n",
    "\n",
    "        # Arrêter la construction de l'arbre si la profondeur maximale est atteinte\n",
    "        if self.max_depth is not None and depth >= self.max_depth:\n",
    "            value = self._most_common_label(y)\n",
    "            return Node(value=value)\n",
    "\n",
    "        # Arrêter la construction de l'arbre si toutes les étiquettes sont identiques\n",
    "        if len(set(y)) == 1:\n",
    "            return Node(value=y[0])\n",
    "\n",
    "        # Trouver la meilleure caractéristique et le meilleur seuil pour la division\n",
    "        best_feature, best_threshold = self._best_split(X, y, n_samples, n_features, n_classes)\n",
    "\n",
    "        # Diviser les données en fonction de la meilleure caractéristique et du meilleur seuil\n",
    "        left_indices, right_indices = self._split(X[:, best_feature], best_threshold)\n",
    "\n",
    "        # Construire le sous-arbre gauche et le sous-arbre droit\n",
    "        left = self._build_tree(X[left_indices, :], y[left_indices], depth+1)\n",
    "        right = self._build_tree(X[right_indices, :], y[right_indices], depth+1)\n",
    "\n",
    "        # Retourner le nœud de décision\n",
    "        return Node(feature=best_feature, threshold=best_threshold, left=left, right=right)\n",
    "\n",
    "    def _gini_impurity(self, y, n_classes):\n",
    "        # Calcul de la gini impurity\n",
    "        return 1.0 - sum((np.sum(y == c) / len(y)) ** 2 for c in range(n_classes))\n",
    "\n",
    "    def _best_split(self, X, y, n_samples, n_features, n_classes):\n",
    "        best_gini = float('inf')\n",
    "        best_feature = None\n",
    "        best_threshold = None\n",
    "\n",
    "        for feature in range(n_features):\n",
    "            thresholds = np.unique(X[:, feature])\n",
    "\n",
    "            for threshold in thresholds:\n",
    "                left_indices, right_indices = self._split(X[:, feature], threshold)\n",
    "                if len(left_indices) == 0 or len(right_indices) == 0:\n",
    "                    continue\n",
    "\n",
    "                gini = (len(left_indices) / n_samples) * self._gini_impurity(y[left_indices],n_classes) + \\\n",
    "                     (len(right_indices) / n_samples) * self._gini_impurity(y[right_indices],n_classes)\n",
    "\n",
    "                if gini < best_gini:\n",
    "                    best_gini = gini\n",
    "                    best_feature = feature\n",
    "                    best_threshold = threshold\n",
    "\n",
    "        return best_feature, best_threshold\n",
    "\n",
    "    def _split(self, feature, threshold):\n",
    "        left_indices = np.where(feature <= threshold)[0]\n",
    "        right_indices = np.where(feature > threshold)[0]\n",
    "        return left_indices, right_indices\n",
    "\n",
    "    def _most_common_label(self, y):\n",
    "        # Trouver la classe 'pincipale' de la région\n",
    "        return sorted([(c, np.sum(y == c)) for c in set(y)], key=lambda x: x[1])[-1][0]\n",
    "\n",
    "    def _predict(self, x, node):\n",
    "        if node.value is not None:\n",
    "            return node.value\n",
    "        if x[node.feature] <= node.threshold:\n",
    "            return self._predict(x, node.left)\n",
    "        else:\n",
    "            return self._predict(x, node.right)"
   ]
  },
  {
   "cell_type": "code",
   "execution_count": 44,
   "metadata": {},
   "outputs": [
    {
     "name": "stdout",
     "output_type": "stream",
     "text": [
      "len of X_train:  120  ; len of X_test:  30\n"
     ]
    }
   ],
   "source": [
    "iris = load_iris()\n",
    "X_train, X_test, y_train, y_test = model_selection.train_test_split(iris.data, iris.target, test_size=0.2, random_state=42)\n",
    "print('len of X_train: ',len(X_train),' ; len of X_test: ',len(X_test))"
   ]
  },
  {
   "cell_type": "code",
   "execution_count": 46,
   "metadata": {},
   "outputs": [
    {
     "name": "stdout",
     "output_type": "stream",
     "text": [
      "[1, 0, 2, 1, 2, 0, 1, 2, 1, 1, 2, 0, 0, 0, 0, 1, 2, 1, 1, 2, 0, 2, 0, 2, 2, 2, 2, 2, 0, 0]\n",
      "[1, 0, 2, 1, 1, 0, 1, 2, 1, 1, 2, 0, 0, 0, 0, 1, 2, 1, 1, 2, 0, 2, 0, 2, 2, 2, 2, 2, 0, 0]\n",
      "Accuracy: 0.9666666666666667\n"
     ]
    }
   ],
   "source": [
    "# From scratch predictions and accuracy\n",
    "tree = DecisionTreeClassifierFromScratch(max_depth=3)\n",
    "tree.fit(X_train, y_train)\n",
    "\n",
    "predictions = tree.predict(X_test)\n",
    "print(predictions)\n",
    "print(list(y_test))\n",
    "accuracy = np.mean(predictions == y_test)\n",
    "\n",
    "print(f\"Accuracy: {accuracy}\")\n",
    "# One mistake on the 5th element"
   ]
  },
  {
   "cell_type": "code",
   "execution_count": 38,
   "metadata": {},
   "outputs": [
    {
     "data": {
      "text/plain": [
       "DecisionTreeClassifier(random_state=42)"
      ]
     },
     "execution_count": 38,
     "metadata": {},
     "output_type": "execute_result"
    }
   ],
   "source": [
    "from sklearn.tree import DecisionTreeClassifier\n",
    "from sklearn.metrics import accuracy_score\n",
    "\n",
    "# With skleanr package\n",
    "\n",
    "clf = DecisionTreeClassifier(random_state=42)\n",
    "clf.fit(X_train, y_train)"
   ]
  },
  {
   "cell_type": "code",
   "execution_count": 41,
   "metadata": {},
   "outputs": [
    {
     "name": "stdout",
     "output_type": "stream",
     "text": [
      "[1 0 2 1 1 0 1 2 1 1 2 0 0 0 0 1 2 1 1 2 0 2 0 2 2 2 2 2 0 0]\n",
      "[1 0 2 1 1 0 1 2 1 1 2 0 0 0 0 1 2 1 1 2 0 2 0 2 2 2 2 2 0 0]\n",
      "Accuracy: 1.0\n"
     ]
    }
   ],
   "source": [
    "y_pred = clf.predict(X_test)\n",
    "print(y_pred)\n",
    "print(y_test)\n",
    "accuracy = accuracy_score(y_test, y_pred)\n",
    "\n",
    "print('Accuracy:', accuracy)"
   ]
  }
 ],
 "metadata": {
  "kernelspec": {
   "display_name": "Python 3.9.12 ('base')",
   "language": "python",
   "name": "python3"
  },
  "language_info": {
   "codemirror_mode": {
    "name": "ipython",
    "version": 3
   },
   "file_extension": ".py",
   "mimetype": "text/x-python",
   "name": "python",
   "nbconvert_exporter": "python",
   "pygments_lexer": "ipython3",
   "version": "3.9.12"
  },
  "orig_nbformat": 4,
  "vscode": {
   "interpreter": {
    "hash": "c583b04bd300b6c5291ff1176f97d61ae1bc889ec7f2c1c609b2578a37b6e7cf"
   }
  }
 },
 "nbformat": 4,
 "nbformat_minor": 2
}
