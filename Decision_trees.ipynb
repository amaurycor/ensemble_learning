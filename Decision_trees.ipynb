{
 "cells": [
  {
   "cell_type": "code",
   "execution_count": 15,
   "metadata": {},
   "outputs": [],
   "source": [
    "import numpy as np\n",
    "from sklearn.datasets import load_iris\n",
    "from sklearn import model_selection"
   ]
  },
  {
   "cell_type": "code",
   "execution_count": 16,
   "metadata": {},
   "outputs": [],
   "source": [
    "class Node:\n",
    "    def __init__(self, feature=None, threshold=None, left=None, right=None, value=None):\n",
    "        self.feature = feature  # la caractéristique utilisée pour la division\n",
    "        self.threshold = threshold  # le seuil utilisé pour la division\n",
    "        self.left = left  # le sous-arbre gauche\n",
    "        self.right = right  # le sous-arbre droit\n",
    "        self.value = value  # la prédiction de la feuille"
   ]
  },
  {
   "cell_type": "code",
   "execution_count": 33,
   "metadata": {},
   "outputs": [],
   "source": [
    "class DecisionTreeClassifier:\n",
    "\n",
    "    def __init__(self, max_depth=None):\n",
    "        self.max_depth = max_depth  # la profondeur maximale de l'arbre\n",
    "        self.root = None  # la racine de l'arbre\n",
    "\n",
    "    def fit(self, X, y):\n",
    "        self.root = self._build_tree(X, y)\n",
    "\n",
    "    def predict(self, X):\n",
    "        return [self._predict(x, self.root) for x in X]\n",
    "    \n",
    "    def _build_tree(self, X, y, depth=0):\n",
    "        n_samples, n_features = X.shape\n",
    "        n_classes = len(set(y))\n",
    "\n",
    "        # Arrêter la construction de l'arbre si la profondeur maximale est atteinte\n",
    "        if self.max_depth is not None and depth >= self.max_depth:\n",
    "            value = self._most_common_label(y)\n",
    "            return Node(value=value)\n",
    "\n",
    "        # Arrêter la construction de l'arbre si toutes les étiquettes sont identiques\n",
    "        if len(set(y)) == 1:\n",
    "            return Node(value=y[0])\n",
    "\n",
    "        # Trouver la meilleure caractéristique et le meilleur seuil pour la division\n",
    "        best_feature, best_threshold = self._best_split(X, y, n_samples, n_features, n_classes)\n",
    "\n",
    "        # Diviser les données en fonction de la meilleure caractéristique et du meilleur seuil\n",
    "        left_indices, right_indices = self._split(X[:, best_feature], best_threshold)\n",
    "\n",
    "        # Construire le sous-arbre gauche et le sous-arbre droit\n",
    "        left = self._build_tree(X[left_indices, :], y[left_indices], depth+1)\n",
    "        right = self._build_tree(X[right_indices, :], y[right_indices], depth+1)\n",
    "\n",
    "        # Retourner le nœud de décision\n",
    "        return Node(feature=best_feature, threshold=best_threshold, left=left, right=right)\n",
    "\n",
    "    def _gini_impurity(self, y, n_classes):\n",
    "        # Calcul de la gini impurity\n",
    "        return 1.0 - sum((np.sum(y == c) / len(y)) ** 2 for c in range(n_classes))\n",
    "\n",
    "    def _best_split(self, X, y, n_samples, n_features, n_classes):\n",
    "        best_gini = float('inf')\n",
    "        best_feature = None\n",
    "        best_threshold = None\n",
    "\n",
    "        for feature in range(n_features):\n",
    "            thresholds = np.unique(X[:, feature])\n",
    "\n",
    "            for threshold in thresholds:\n",
    "                left_indices, right_indices = self._split(X[:, feature], threshold)\n",
    "                if len(left_indices) == 0 or len(right_indices) == 0:\n",
    "                    continue\n",
    "\n",
    "                gini = (len(left_indices) / n_samples) * self._gini_impurity(y[left_indices],n_classes) + \\\n",
    "                     (len(right_indices) / n_samples) * self._gini_impurity(y[right_indices],n_classes)\n",
    "\n",
    "                if gini < best_gini:\n",
    "                    best_gini = gini\n",
    "                    best_feature = feature\n",
    "                    best_threshold = threshold\n",
    "\n",
    "        return best_feature, best_threshold\n",
    "\n",
    "    def _split(self, feature, threshold):\n",
    "        left_indices = np.where(feature <= threshold)[0]\n",
    "        right_indices = np.where(feature > threshold)[0]\n",
    "        return left_indices, right_indices\n",
    "\n",
    "    def _most_common_label(self, y):\n",
    "        # Trouver la classe 'pincipale' de la région\n",
    "        return sorted([(c, np.sum(y == c)) for c in set(y)], key=lambda x: x[1])[-1][0]\n",
    "\n",
    "    def _predict(self, x, node):\n",
    "        if node.value is not None:\n",
    "            return node.value\n",
    "        if x[node.feature] <= node.threshold:\n",
    "            return self._predict(x, node.left)\n",
    "        else:\n",
    "            return self._predict(x, node.right)"
   ]
  },
  {
   "cell_type": "code",
   "execution_count": 36,
   "metadata": {},
   "outputs": [
    {
     "name": "stdout",
     "output_type": "stream",
     "text": [
      "len of X_train:  120  ; len of X_test:  30\n"
     ]
    }
   ],
   "source": [
    "iris = load_iris()\n",
    "X_train, X_test, y_train, y_test = model_selection.train_test_split(iris.data, iris.target, test_size=0.2, random_state=42)\n",
    "print('len of X_train: ',len(X_train),' ; len of X_test: ',len(X_test))"
   ]
  },
  {
   "cell_type": "code",
   "execution_count": 37,
   "metadata": {},
   "outputs": [
    {
     "name": "stdout",
     "output_type": "stream",
     "text": [
      "[1, 0, 2, 1, 2, 0, 1, 2, 1, 1, 2, 0, 0, 0, 0, 1, 2, 1, 1, 2, 0, 2, 0, 2, 2, 2, 2, 2, 0, 0]\n",
      "Accuracy: 0.9666666666666667\n"
     ]
    }
   ],
   "source": [
    "tree = DecisionTreeClassifier(max_depth=3)\n",
    "tree.fit(X_train, y_train)\n",
    "\n",
    "predictions = tree.predict(X_test)\n",
    "print(predictions)\n",
    "accuracy = np.mean(predictions == y_test)\n",
    "\n",
    "print(f\"Accuracy: {accuracy}\")"
   ]
  },
  {
   "cell_type": "code",
   "execution_count": null,
   "metadata": {},
   "outputs": [],
   "source": []
  },
  {
   "cell_type": "code",
   "execution_count": 6,
   "metadata": {},
   "outputs": [],
   "source": [
    "# Classification case\n",
    "class DecisionTreeClassifier:\n",
    "    \n",
    "    def __init__(self, max_depth=None):\n",
    "        self.max_depth = max_depth\n",
    "    \n",
    "    def fit(self, X, y):\n",
    "        self.n_classes_ = len(np.unique(y))\n",
    "        self.n_features_ = X.shape[1]\n",
    "        self.tree_ = self._grow_tree(X, y)\n",
    "    \n",
    "    def predict(self, X):\n",
    "        return [self._predict(inputs) for inputs in X]\n",
    "    \n",
    "    def _grow_tree(self, X, y, depth=0):\n",
    "        n_samples_per_class = [np.sum(y == i) for i in range(self.n_classes_)]\n",
    "        predicted_class = np.argmax(n_samples_per_class)\n",
    "        \n",
    "        node = {'predicted_class': predicted_class}\n",
    "        if depth < self.max_depth:\n",
    "            feature, threshold = self._best_split(X, y)\n",
    "            if feature is not None:\n",
    "                indices_left = X[:, feature] < threshold\n",
    "                X_left, y_left = X[indices_left], y[indices_left]\n",
    "                X_right, y_right = X[~indices_left], y[~indices_left]\n",
    "                node['feature'] = feature\n",
    "                node['threshold'] = threshold\n",
    "                node['left'] = self._grow_tree(X_left, y_left, depth+1)\n",
    "                node['right'] = self._grow_tree(X_right, y_right, depth+1)\n",
    "        return node\n",
    "    \n",
    "    def _best_split(self, X, y):\n",
    "        best_gini = 1.0 - np.sum([(np.sum(y == c) / y.size) ** 2 for c in range(self.n_classes_)])\n",
    "        best_feature, best_threshold = None, None\n",
    "        for feature in range(self.n_features_):\n",
    "            thresholds = np.unique(X[:, feature])\n",
    "            for threshold in thresholds:\n",
    "                y_left = y[X[:, feature] < threshold]\n",
    "                y_right = y[X[:, feature] >= threshold]\n",
    "                if y_left.size == 0 or y_right.size == 0:\n",
    "                    continue\n",
    "                gini_left = 1.0 - np.sum([(np.sum(y_left == c) / y_left.size) ** 2 for c in range(self.n_classes_)])\n",
    "                gini_right = 1.0 - np.sum([(np.sum(y_right == c) / y_right.size) ** 2 for c in range(self.n_classes_)])\n",
    "                gini = (y_left.size / y.size) * gini_left + (y_right.size / y.size) * gini_right\n",
    "                if gini < best_gini:\n",
    "                    best_gini = gini\n",
    "                    best_feature = feature\n",
    "                    best_threshold = threshold\n",
    "        return best_feature, best_threshold\n",
    "    \n",
    "    def _predict(self, inputs):\n",
    "        node = self.tree_\n",
    "        while 'predicted_class' not in node:\n",
    "            if inputs[node['feature']] < node['threshold']:\n",
    "                node = node['left']\n",
    "            else:\n",
    "                node = node['right']\n",
    "        return node['predicted_class']"
   ]
  },
  {
   "cell_type": "code",
   "execution_count": 11,
   "metadata": {},
   "outputs": [
    {
     "name": "stdout",
     "output_type": "stream",
     "text": [
      "2\n"
     ]
    }
   ],
   "source": [
    "clf = DecisionTreeClassifier(max_depth = 5)\n",
    "clf.fit(X_train,y_train)\n",
    "print(clf._predict(X_test))"
   ]
  },
  {
   "cell_type": "code",
   "execution_count": null,
   "metadata": {},
   "outputs": [],
   "source": [
    "class DecisionTreeRegressor:\n",
    "    \n",
    "    def __init__(self, max_depth=None):\n",
    "        self.max_depth = max_depth\n",
    "    \n",
    "    def fit(self, X, y):\n",
    "        self.n_features_ = X.shape[1]\n",
    "        self.tree_ = self._grow_tree(X, y)\n",
    "    \n",
    "    def predict(self, X):\n",
    "        return [self._predict(inputs) for inputs in X]\n",
    "    \n",
    "    def _grow_tree(self, X, y, depth=0):\n",
    "        var_y = np.var(y)\n",
    "        node = {'value': np.mean(y)}\n",
    "        if depth < self.max_depth and var_y != 0:\n",
    "            feature, threshold = self._best_split(X, y, var_y)\n",
    "            if feature is not None:\n",
    "                indices_left = X[:, feature] < threshold\n",
    "                X_left, y_left = X[indices_left], y[indices_left]\n",
    "                X_right, y_right = X[~indices_left], y[~indices_left]\n",
    "                node['feature'] = feature\n",
    "                node['threshold'] = threshold\n",
    "                node['left'] = self._grow_tree(X_left, y_left, depth+1)\n",
    "                node['right'] = self._grow_tree(X_right, y_right, depth+1)\n",
    "        return node\n",
    "    \n",
    "    def _best_split(self, X, y, var_y):\n",
    "        best_reduction = 0\n",
    "        best_feature, best_threshold = None, None\n",
    "        for feature in range(self.n_features_):\n",
    "            thresholds = np.unique(X[:, feature])\n",
    "            for threshold in thresholds:\n",
    "                y_left = y[X[:, feature] < threshold]\n",
    "                y_right = y[X[:, feature] >= threshold]\n",
    "                if y_left.size == 0 or y_right.size == 0:\n",
    "                    continue\n",
    "                var_left = np.var(y_left)\n",
    "                var_right = np.var(y_right)\n",
    "                reduction = var_y - ((y_left.size / y.size) * var_left + (y_right.size / y.size) * var_right)\n",
    "                if reduction > best_reduction:\n",
    "                    best_reduction = reduction\n",
    "                    best_feature = feature\n",
    "                    best_threshold = threshold\n",
    "        return best_feature, best_threshold\n",
    "    \n",
    "    def _predict(self, inputs):\n",
    "        node = self.tree_\n",
    "        while 'value' not in node:\n",
    "            if inputs[node['feature']] < node['threshold']:\n",
    "                node = node['left']\n",
    "            else:\n",
    "                node = node['right']\n",
    "        return node['value']"
   ]
  }
 ],
 "metadata": {
  "kernelspec": {
   "display_name": "Python 3.9.12 ('base')",
   "language": "python",
   "name": "python3"
  },
  "language_info": {
   "codemirror_mode": {
    "name": "ipython",
    "version": 3
   },
   "file_extension": ".py",
   "mimetype": "text/x-python",
   "name": "python",
   "nbconvert_exporter": "python",
   "pygments_lexer": "ipython3",
   "version": "3.9.12"
  },
  "orig_nbformat": 4,
  "vscode": {
   "interpreter": {
    "hash": "c583b04bd300b6c5291ff1176f97d61ae1bc889ec7f2c1c609b2578a37b6e7cf"
   }
  }
 },
 "nbformat": 4,
 "nbformat_minor": 2
}
