{
 "cells": [
  {
   "cell_type": "code",
   "execution_count": 34,
   "metadata": {},
   "outputs": [],
   "source": [
    "import numpy as np\n",
    "from sklearn.datasets import load_iris,load_boston\n",
    "from sklearn import model_selection\n",
    "from sklearn.metrics import mean_squared_error\n",
    "from sklearn.metrics import r2_score"
   ]
  },
  {
   "cell_type": "code",
   "execution_count": 2,
   "metadata": {},
   "outputs": [],
   "source": [
    "class Node:\n",
    "    def __init__(self, feature=None, threshold=None, left=None, right=None, value=None):\n",
    "        self.feature = feature  # feature used for the split\n",
    "        self.threshold = threshold  # threshold used for the split\n",
    "        self.left = left  # left sub-tree\n",
    "        self.right = right  # right sub-tree\n",
    "        self.value = value  # predicted value of the leaf"
   ]
  },
  {
   "cell_type": "markdown",
   "metadata": {},
   "source": [
    "Decision Tree for Classification case"
   ]
  },
  {
   "cell_type": "code",
   "execution_count": 6,
   "metadata": {},
   "outputs": [],
   "source": [
    "class DecisionTreeClassifierFromScratch:\n",
    "\n",
    "    def __init__(self, max_depth=None,min_samples_split=None):\n",
    "        self.max_depth = max_depth  # maximum depth of the shaft\n",
    "        self.min_samples_split = min_samples_split  # minimum samples required to split a node\n",
    "        self.root = None  # tree root\n",
    "\n",
    "    def fit(self, X, y):\n",
    "        self.root = self._build_tree(X, y)\n",
    "\n",
    "    def predict(self, X):\n",
    "        return [self._predict(x, self.root) for x in X]\n",
    "    \n",
    "    def _build_tree(self, X, y, depth=0):\n",
    "        n_samples, n_features = X.shape\n",
    "        n_classes = len(set(y))\n",
    "\n",
    "        # Stop building the tree if the maximum depth is reached\n",
    "        if self.max_depth is not None and depth >= self.max_depth:\n",
    "            value = self._most_common_label(y)\n",
    "            return Node(value=value)\n",
    "\n",
    "        # Stop building the tree if all classes are identical\n",
    "        if len(set(y)) == 1:\n",
    "            return Node(value=y[0])\n",
    "        \n",
    "        # Stop building the tree if the number of samples in the node is less than min_samples_split\n",
    "        if self.min_samples_split is not None:\n",
    "            if n_samples < self.min_samples_split:\n",
    "                value = self._most_common_label(y)\n",
    "                return Node(value=value)\n",
    "\n",
    "        # Find the best feature and threshold for the split\n",
    "        best_feature, best_threshold = self._best_split(X, y, n_samples, n_features, n_classes)\n",
    "\n",
    "        # Divide the data according to the best feature and the best threshold\n",
    "        left_indices, right_indices = self._split(X[:, best_feature], best_threshold)\n",
    "\n",
    "        # Build the left and right sub-tree\n",
    "        left = self._build_tree(X[left_indices, :], y[left_indices], depth+1)\n",
    "        right = self._build_tree(X[right_indices, :], y[right_indices], depth+1)\n",
    "\n",
    "        # Return the decision node\n",
    "        return Node(feature=best_feature, threshold=best_threshold, left=left, right=right)\n",
    "\n",
    "    def _gini_impurity(self, y, n_classes):\n",
    "        # Gini impurity computation\n",
    "        return 1.0 - sum((np.sum(y == c) / len(y)) ** 2 for c in range(n_classes))\n",
    "\n",
    "    def _best_split(self, X, y, n_samples, n_features, n_classes):\n",
    "        best_gini = float('inf')\n",
    "        best_feature = None\n",
    "        best_threshold = None\n",
    "\n",
    "        # Go through each feature to find the best split\n",
    "        for feature in range(n_features):\n",
    "            thresholds = np.unique(X[:, feature])\n",
    "            # Search for possible thresholds for each feature\n",
    "            for threshold in thresholds:\n",
    "                left_indices, right_indices = self._split(X[:, feature], threshold)\n",
    "                # Ignore splits that have an empty side\n",
    "                if len(left_indices) == 0 or len(right_indices) == 0:\n",
    "                    continue\n",
    "                # Impurity computation\n",
    "                gini = (len(left_indices) / n_samples) * self._gini_impurity(y[left_indices],n_classes) + \\\n",
    "                     (len(right_indices) / n_samples) * self._gini_impurity(y[right_indices],n_classes)\n",
    "                # Update the result if the impurity is better\n",
    "                if gini < best_gini:\n",
    "                    best_gini = gini\n",
    "                    best_feature = feature\n",
    "                    best_threshold = threshold\n",
    "        # Return the best feature and its threshold\n",
    "        return best_feature, best_threshold\n",
    "\n",
    "    def _split(self, feature, threshold):\n",
    "        # Definition of the indices of the elements included in the left or right split\n",
    "        left_indices = np.where(feature <= threshold)[0]\n",
    "        right_indices = np.where(feature > threshold)[0]\n",
    "        return left_indices, right_indices\n",
    "\n",
    "    def _most_common_label(self, y):\n",
    "        # Find the main class of the region\n",
    "        return sorted([(c, np.sum(y == c)) for c in set(y)], key=lambda x: x[1])[-1][0]\n",
    "\n",
    "    def _predict(self, x, node):\n",
    "        # If the node is a 'leaf', return the value of the node\n",
    "        if node.value is not None:\n",
    "            return node.value\n",
    "        # If the sample feature value is less than or equal to the threshold, continue in the left sub-tree\n",
    "        if x[node.feature] <= node.threshold:\n",
    "            return self._predict(x, node.left)\n",
    "        # Otherwise, continue in the right sub-tree\n",
    "        else:\n",
    "            return self._predict(x, node.right)"
   ]
  },
  {
   "cell_type": "code",
   "execution_count": 7,
   "metadata": {},
   "outputs": [
    {
     "name": "stdout",
     "output_type": "stream",
     "text": [
      "len of X_train:  120  ; len of X_test:  30\n"
     ]
    }
   ],
   "source": [
    "# In the case of classification we chose to test our decision tree with the IRIS dataset\n",
    "\n",
    "# Loading the data\n",
    "iris = load_iris()\n",
    "# Splitting the data\n",
    "X_train, X_test, y_train, y_test = model_selection.train_test_split(iris.data, iris.target, test_size=0.2, random_state=42)\n",
    "print('len of X_train: ',len(X_train),' ; len of X_test: ',len(X_test))"
   ]
  },
  {
   "cell_type": "code",
   "execution_count": 29,
   "metadata": {},
   "outputs": [
    {
     "name": "stdout",
     "output_type": "stream",
     "text": [
      "[1, 0, 2, 1, 1, 0, 1, 2, 1, 1, 2, 0, 0, 0, 0, 1, 2, 1, 1, 2, 0, 2, 0, 2, 2, 2, 2, 2, 0, 0]\n",
      "[1, 0, 2, 1, 1, 0, 1, 2, 1, 1, 2, 0, 0, 0, 0, 1, 2, 1, 1, 2, 0, 2, 0, 2, 2, 2, 2, 2, 0, 0]\n",
      "Accuracy: 1.0\n"
     ]
    }
   ],
   "source": [
    "# From scratch \n",
    "\n",
    "# Fitting the decision tree\n",
    "tree = DecisionTreeClassifierFromScratch(max_depth=4,min_samples_split=2)\n",
    "tree.fit(X_train, y_train)\n",
    "\n",
    "# Make predictions\n",
    "predictions = tree.predict(X_test)\n",
    "print(predictions)\n",
    "print(list(y_test))\n",
    "\n",
    "# Checking accuracy\n",
    "accuracy = np.mean(predictions == y_test)\n",
    "\n",
    "print(f\"Accuracy: {accuracy}\")\n",
    "# One mistake on the 5th element"
   ]
  },
  {
   "cell_type": "code",
   "execution_count": 30,
   "metadata": {},
   "outputs": [
    {
     "data": {
      "text/plain": [
       "DecisionTreeClassifier(max_depth=4, random_state=42)"
      ]
     },
     "execution_count": 30,
     "metadata": {},
     "output_type": "execute_result"
    }
   ],
   "source": [
    "from sklearn.tree import DecisionTreeClassifier\n",
    "from sklearn.metrics import accuracy_score\n",
    "\n",
    "# With sklearn package\n",
    "\n",
    "clf = DecisionTreeClassifier(random_state=42,max_depth=4)\n",
    "clf.fit(X_train, y_train)"
   ]
  },
  {
   "cell_type": "code",
   "execution_count": 31,
   "metadata": {},
   "outputs": [
    {
     "name": "stdout",
     "output_type": "stream",
     "text": [
      "[1 0 2 1 1 0 1 2 1 1 2 0 0 0 0 1 2 1 1 2 0 2 0 2 2 2 2 2 0 0]\n",
      "[1 0 2 1 1 0 1 2 1 1 2 0 0 0 0 1 2 1 1 2 0 2 0 2 2 2 2 2 0 0]\n",
      "Accuracy: 1.0\n"
     ]
    }
   ],
   "source": [
    "y_pred = clf.predict(X_test)\n",
    "print(y_pred)\n",
    "print(y_test)\n",
    "accuracy = accuracy_score(y_test, y_pred)\n",
    "\n",
    "print('Accuracy:', accuracy)"
   ]
  },
  {
   "cell_type": "markdown",
   "metadata": {},
   "source": [
    "Decision tree for Regression case"
   ]
  },
  {
   "cell_type": "code",
   "execution_count": 32,
   "metadata": {},
   "outputs": [],
   "source": [
    "class DecisionTreeRegressorFromScratch:\n",
    "\n",
    "    def __init__(self, max_depth=None,min_samples_split=None):\n",
    "        self.max_depth = max_depth  # maximum depth of the shaft\n",
    "        self.min_samples_split = min_samples_split  # minimum samples required to split a node\n",
    "        self.root = None  # tree root\n",
    "\n",
    "    def fit(self, X, y):\n",
    "        self.root = self._build_tree(X, y)\n",
    "\n",
    "    def predict(self, X):\n",
    "        return [self._predict(x, self.root) for x in X]\n",
    "    \n",
    "    def _build_tree(self, X, y, depth=0):\n",
    "        n_samples, n_features = X.shape\n",
    "\n",
    "        # Stop building the tree if the maximum depth is reached\n",
    "        if self.max_depth is not None and depth >= self.max_depth:\n",
    "            value = np.mean(y)\n",
    "            return Node(value=value)\n",
    "\n",
    "        # Stop building the tree if all values are identical\n",
    "        if np.all(y == y[0]):\n",
    "            return Node(value=y[0])\n",
    "\n",
    "        # Stop building the tree if the number of samples in the node is less than min_samples_split\n",
    "        if self.min_samples_split is not None:\n",
    "            if n_samples < self.min_samples_split:\n",
    "                value = self._most_common_label(y)\n",
    "                return Node(value=value)\n",
    "            \n",
    "        # Find the best feature and threshold for the split\n",
    "        best_feature, best_threshold = self._best_split(X, y, n_samples, n_features)\n",
    "\n",
    "        # Divide the data according to the best feature and the best threshold\n",
    "        left_indices, right_indices = self._split(X[:, best_feature], best_threshold)\n",
    "\n",
    "        # Build the left and right sub-tree\n",
    "        left = self._build_tree(X[left_indices, :], y[left_indices], depth+1)\n",
    "        right = self._build_tree(X[right_indices, :], y[right_indices], depth+1)\n",
    "\n",
    "        # Return the decision node, with the best feature and threshold\n",
    "        return Node(feature=best_feature, threshold=best_threshold, left=left, right=right)\n",
    "\n",
    "    def _mse(self, y):\n",
    "        # Computing MSE\n",
    "        return np.mean((y - np.mean(y)) ** 2)\n",
    "\n",
    "    def _best_split(self, X, y, n_samples, n_features):\n",
    "        best_mse = float('inf')\n",
    "        best_feature = None\n",
    "        best_threshold = None\n",
    "\n",
    "        # Go through each feature to find the best split\n",
    "        for feature in range(n_features):\n",
    "            thresholds = np.unique(X[:, feature])\n",
    "            # Search for possible thresholds for each feature\n",
    "            for threshold in thresholds:\n",
    "                left_indices, right_indices = self._split(X[:, feature], threshold)\n",
    "                if len(left_indices) == 0 or len(right_indices) == 0:\n",
    "                    continue\n",
    "                # MSE computation\n",
    "                mse = (len(left_indices) / n_samples) * self._mse(y[left_indices]) + \\\n",
    "                      (len(right_indices) / n_samples) * self._mse(y[right_indices])\n",
    "                # Update the results if the MSE is better\n",
    "                if mse < best_mse:\n",
    "                    best_mse = mse\n",
    "                    best_feature = feature\n",
    "                    best_threshold = threshold\n",
    "        # Return the best feature and its threshold\n",
    "        return best_feature, best_threshold\n",
    "\n",
    "    def _split(self, feature, threshold):\n",
    "        # Definition of the indices of the elements included in the left or right split\n",
    "        left_indices = np.where(feature <= threshold)[0]\n",
    "        right_indices = np.where(feature > threshold)[0]\n",
    "        return left_indices, right_indices\n",
    "    \n",
    "    def _predict(self, x, node):\n",
    "        # If the node is a 'leaf', return the value of the node\n",
    "        if node.value is not None:\n",
    "            return node.value\n",
    "        # If the sample feature value is less than or equal to the threshold, continue in the left sub-tree\n",
    "        if x[node.feature] <= node.threshold:\n",
    "            return self._predict(x, node.left)\n",
    "        # Otherwise, continue in the right sub-tree\n",
    "        else:\n",
    "            return self._predict(x, node.right)"
   ]
  },
  {
   "cell_type": "code",
   "execution_count": 33,
   "metadata": {},
   "outputs": [
    {
     "name": "stderr",
     "output_type": "stream",
     "text": [
      "/Users/amaury/opt/anaconda3/lib/python3.9/site-packages/sklearn/utils/deprecation.py:87: FutureWarning: Function load_boston is deprecated; `load_boston` is deprecated in 1.0 and will be removed in 1.2.\n",
      "\n",
      "    The Boston housing prices dataset has an ethical problem. You can refer to\n",
      "    the documentation of this function for further details.\n",
      "\n",
      "    The scikit-learn maintainers therefore strongly discourage the use of this\n",
      "    dataset unless the purpose of the code is to study and educate about\n",
      "    ethical issues in data science and machine learning.\n",
      "\n",
      "    In this special case, you can fetch the dataset from the original\n",
      "    source::\n",
      "\n",
      "        import pandas as pd\n",
      "        import numpy as np\n",
      "\n",
      "\n",
      "        data_url = \"http://lib.stat.cmu.edu/datasets/boston\"\n",
      "        raw_df = pd.read_csv(data_url, sep=\"\\s+\", skiprows=22, header=None)\n",
      "        data = np.hstack([raw_df.values[::2, :], raw_df.values[1::2, :2]])\n",
      "        target = raw_df.values[1::2, 2]\n",
      "\n",
      "    Alternative datasets include the California housing dataset (i.e.\n",
      "    :func:`~sklearn.datasets.fetch_california_housing`) and the Ames housing\n",
      "    dataset. You can load the datasets as follows::\n",
      "\n",
      "        from sklearn.datasets import fetch_california_housing\n",
      "        housing = fetch_california_housing()\n",
      "\n",
      "    for the California housing dataset and::\n",
      "\n",
      "        from sklearn.datasets import fetch_openml\n",
      "        housing = fetch_openml(name=\"house_prices\", as_frame=True)\n",
      "\n",
      "    for the Ames housing dataset.\n",
      "    \n",
      "  warnings.warn(msg, category=FutureWarning)\n"
     ]
    }
   ],
   "source": [
    "# In the case of regression we took the Boston Housing dataset to test our decsion tree regressor\n",
    "\n",
    "# Loading the dataset\n",
    "X, y = load_boston(return_X_y=True)\n",
    "\n",
    "# Splitting the data\n",
    "X_train, X_test, y_train, y_test = model_selection.train_test_split(X, y, test_size=0.2, random_state=42)"
   ]
  },
  {
   "cell_type": "code",
   "execution_count": 35,
   "metadata": {},
   "outputs": [
    {
     "name": "stdout",
     "output_type": "stream",
     "text": [
      "[22.726190476190474, 30.05, 19.733333333333334, 20.355555555555554, 15.910526315789474, 22.726190476190474, 15.910526315789474, 15.910526315789474, 22.726190476190474, 20.355555555555554, 19.733333333333334, 19.733333333333334, 9.203703703703704, 22.726190476190474, 20.355555555555554, 24.45, 19.733333333333334, 9.203703703703704, 44.65555555555556, 14.135, 22.726190476190474, 22.726190476190474, 15.910526315789474, 25.985185185185188, 14.135, 14.135, 20.355555555555554, 14.135, 15.910526315789474, 20.355555555555554, 19.733333333333334, 22.726190476190474, 10.4, 20.355555555555554, 15.910526315789474, 15.910526315789474, 24.45, 20.355555555555554, 22.299999999999997, 22.726190476190474, 19.6, 25.985185185185188, 44.65555555555556, 20.355555555555554, 22.726190476190474, 14.135, 15.910526315789474, 22.726190476190474, 15.910526315789474, 30.05, 20.355555555555554, 33.1, 15.910526315789474, 25.985185185185188, 44.65555555555556, 22.726190476190474, 15.910526315789474, 30.05, 22.726190476190474, 22.299999999999997, 25.985185185185188, 33.1, 30.05, 20.355555555555554, 30.05, 15.910526315789474, 14.135, 22.726190476190474, 30.05, 15.910526315789474, 20.355555555555554, 25.985185185185188, 9.203703703703704, 20.355555555555554, 22.726190476190474, 9.203703703703704, 22.726190476190474, 44.65555555555556, 13.170000000000002, 15.910526315789474, 20.355555555555554, 13.170000000000002, 20.355555555555554, 9.203703703703704, 20.355555555555554, 25.985185185185188, 15.910526315789474, 22.726190476190474, 22.726190476190474, 15.910526315789474, 20.355555555555554, 9.203703703703704, 22.726190476190474, 20.355555555555554, 20.355555555555554, 22.726190476190474, 27.9, 13.170000000000002, 14.135, 13.170000000000002, 20.355555555555554, 22.726190476190474]\n",
      "Mean Squared Error:  14.347166388568414\n",
      "R-squared:  0.8043580220428215\n"
     ]
    }
   ],
   "source": [
    "# From scratch\n",
    "\n",
    "# Fitting the decision tree\n",
    "tree = DecisionTreeRegressorFromScratch(max_depth=5)\n",
    "tree.fit(X_train, y_train)\n",
    "\n",
    "# Make predicitons\n",
    "y_pred = tree.predict(X_test)\n",
    "print(y_pred)\n",
    "\n",
    "# Computing the MSE (as an accuracy indicator)\n",
    "mse = mean_squared_error(y_test, y_pred)\n",
    "rsquared = r2_score(y_test,y_pred)\n",
    "print(\"Mean Squared Error: \", mse)\n",
    "print(\"R-squared: \", rsquared)"
   ]
  },
  {
   "cell_type": "code",
   "execution_count": 36,
   "metadata": {},
   "outputs": [
    {
     "name": "stdout",
     "output_type": "stream",
     "text": [
      "[22.72619048 30.05       19.73333333 20.35555556 15.91052632 22.72619048\n",
      " 15.91052632 15.91052632 22.72619048 20.35555556 19.73333333 19.73333333\n",
      "  9.2037037  22.72619048 20.35555556 24.45       19.73333333  9.2037037\n",
      " 44.65555556 14.135      22.72619048 22.72619048 15.91052632 25.98518519\n",
      " 14.135      14.135      20.35555556 14.135      15.91052632 20.35555556\n",
      " 19.73333333 22.72619048 10.4        20.35555556 15.91052632 15.91052632\n",
      " 33.1        20.35555556 22.3        22.72619048 19.6        25.98518519\n",
      " 44.65555556 20.35555556 22.72619048 14.135      15.91052632 22.72619048\n",
      " 15.91052632 30.05       20.35555556 33.1        15.91052632 25.98518519\n",
      " 44.65555556 22.72619048 15.91052632 30.05       22.72619048 22.3\n",
      " 25.98518519 33.1        30.05       20.35555556 30.05       15.91052632\n",
      " 14.135      22.72619048 30.05       15.91052632 20.35555556 25.98518519\n",
      "  9.2037037  20.35555556 22.72619048  9.2037037  22.72619048 44.65555556\n",
      " 13.17       15.91052632 20.35555556 13.17       20.35555556  9.2037037\n",
      " 20.35555556 25.98518519 15.91052632 22.72619048 22.72619048 15.91052632\n",
      " 20.35555556  9.2037037  22.72619048 20.35555556 20.35555556 22.72619048\n",
      " 50.         13.17       14.135      13.17       20.35555556 22.72619048]\n",
      "Mean Squared Error: 8.553906584646844\n",
      "R-squared:  0.8833565347917995\n"
     ]
    }
   ],
   "source": [
    "from sklearn.tree import DecisionTreeRegressor\n",
    "\n",
    "# With sklearn package\n",
    "\n",
    "dt = DecisionTreeRegressor(max_depth=5, random_state=42)\n",
    "dt.fit(X_train, y_train)\n",
    "\n",
    "# Make predictions on the testing data\n",
    "y_pred = dt.predict(X_test)\n",
    "print(y_pred)\n",
    "\n",
    "# Evaluate the model using mean squared error\n",
    "mse = mean_squared_error(y_test, y_pred)\n",
    "rsquared = r2_score(y_test,y_pred)\n",
    "print(\"Mean Squared Error:\", mse)\n",
    "print(\"R-squared: \", rsquared)"
   ]
  }
 ],
 "metadata": {
  "kernelspec": {
   "display_name": "Python 3.9.12 ('base')",
   "language": "python",
   "name": "python3"
  },
  "language_info": {
   "codemirror_mode": {
    "name": "ipython",
    "version": 3
   },
   "file_extension": ".py",
   "mimetype": "text/x-python",
   "name": "python",
   "nbconvert_exporter": "python",
   "pygments_lexer": "ipython3",
   "version": "3.9.12"
  },
  "orig_nbformat": 4,
  "vscode": {
   "interpreter": {
    "hash": "c583b04bd300b6c5291ff1176f97d61ae1bc889ec7f2c1c609b2578a37b6e7cf"
   }
  }
 },
 "nbformat": 4,
 "nbformat_minor": 2
}
